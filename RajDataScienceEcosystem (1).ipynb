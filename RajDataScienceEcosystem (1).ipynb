{
  "cells": [
    {
      "cell_type": "markdown",
      "metadata": {
        "id": "KoizDBHRXo6v"
      },
      "source": [
        "# **Data Science Tools and Ecosystem**"
      ]
    },
    {
      "cell_type": "markdown",
      "metadata": {
        "id": "ERcTtxtJXo6z"
      },
      "source": [
        "In this notebook, Data Science Tools and Ecosystem are summarized."
      ]
    },
    {
      "cell_type": "markdown",
      "metadata": {
        "id": "Ri4vXRrgXo6z"
      },
      "source": [
        "Some of the popular languages that Data Scientists use are:\n",
        "\n",
        "- Python\n",
        "- R\n",
        "- SQL\n",
        "- Scala\n",
        "- Java\n",
        "- C++\n",
        "- Julia\n",
        "- JavaScript\n",
        "- PHP\n",
        "- Go\n",
        "- Ruby\n",
        "- Visual Basic\n"
      ]
    },
    {
      "cell_type": "markdown",
      "metadata": {
        "id": "w0T2ee_FXo60"
      },
      "source": [
        "Some of the commonly used libraries used by Data Scientists include:\n",
        "1. Pandas\n",
        "2. NumPy\n",
        "3. Scikit-Learn\n",
        "4. Matloblib\n",
        "5. Keras\n",
        "6. TensorFlow\n",
        "7. Pytourch\n",
        "8. Apache Spark\n",
        "9. Vegas\n",
        "10. Big DL\n",
        "11. Seaborn\n",
        "12. Ggplot2"
      ]
    },
    {
      "cell_type": "markdown",
      "metadata": {
        "id": "KGpmhZLkXo60"
      },
      "source": [
        "|Data Science Tools|\n",
        "|---|\n",
        "|Anaconda|\n",
        "|Jupyter Notebook|\n",
        "|R Studio|\n",
        "|Spyder|\n",
        "|Zeppelin|"
      ]
    },
    {
      "cell_type": "markdown",
      "metadata": {
        "id": "FJ7GptqLXo61"
      },
      "source": [
        "### Below are a few examples of evaluating arithmetic expressions in Python"
      ]
    },
    {
      "cell_type": "code",
      "execution_count": null,
      "metadata": {
        "id": "Ldt6uNI_Xo61",
        "outputId": "d88d8e39-3156-44d1-c06c-3b1836cf3d74"
      },
      "outputs": [
        {
          "data": {
            "text/plain": [
              "17"
            ]
          },
          "execution_count": 2,
          "metadata": {},
          "output_type": "execute_result"
        }
      ],
      "source": [
        "#This a simple arithmetic expression to mutiply then add integers\n",
        "(3*4)+5"
      ]
    },
    {
      "cell_type": "code",
      "execution_count": null,
      "metadata": {
        "id": "I6HDfu9CXo63",
        "outputId": "e6fd510c-a291-4157-fecc-0ddf833c618c"
      },
      "outputs": [
        {
          "data": {
            "text/plain": [
              "3.3333333333333335"
            ]
          },
          "execution_count": 3,
          "metadata": {},
          "output_type": "execute_result"
        }
      ],
      "source": [
        "# This will convert 200 minutes to hours by diving by 60\n",
        "200/60"
      ]
    },
    {
      "cell_type": "markdown",
      "metadata": {
        "id": "EYMNUYekXo64"
      },
      "source": [
        "__Objectives:__\n",
        "* Add comments to code cells\n",
        "* Create markdown cells\n",
        "* List popular languages for Data Science\n",
        "* Format content or markdown cells with heading styles"
      ]
    },
    {
      "cell_type": "markdown",
      "metadata": {
        "id": "MXxUE9JtXo64"
      },
      "source": [
        "## Author\n",
        "Raj S Patil"
      ]
    },
    {
      "cell_type": "markdown",
      "source": [],
      "metadata": {
        "id": "ET_Q0nZyZmAZ"
      }
    }
  ],
  "metadata": {
    "kernelspec": {
      "display_name": "Python 3 (ipykernel)",
      "language": "python",
      "name": "python3"
    },
    "language_info": {
      "codemirror_mode": {
        "name": "ipython",
        "version": 3
      },
      "file_extension": ".py",
      "mimetype": "text/x-python",
      "name": "python",
      "nbconvert_exporter": "python",
      "pygments_lexer": "ipython3",
      "version": "3.11.0"
    },
    "colab": {
      "provenance": []
    }
  },
  "nbformat": 4,
  "nbformat_minor": 0
}